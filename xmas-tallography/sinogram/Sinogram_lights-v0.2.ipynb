{
 "cells": [
  {
   "cell_type": "code",
   "execution_count": 1,
   "id": "ae669f3b",
   "metadata": {},
   "outputs": [],
   "source": [
    "import board\n",
    "import neopixel\n",
    "import time\n",
    "import numpy as np\n",
    "\n",
    "num_pixels = 100\n",
    "ORDER = neopixel.RGB\n",
    "\n",
    "pixels = neopixel.NeoPixel(board.D21, num_pixels, auto_write=False, pixel_order=ORDER)"
   ]
  },
  {
   "cell_type": "code",
   "execution_count": 2,
   "id": "59008b77",
   "metadata": {},
   "outputs": [],
   "source": [
    "# E.g. Set all pixels off \n",
    "pixels.fill((0, 0, 0))"
   ]
  },
  {
   "cell_type": "code",
   "execution_count": 3,
   "id": "6ad0e509",
   "metadata": {},
   "outputs": [],
   "source": [
    "loop_starters = [0, 10, 30, 50, 70]"
   ]
  },
  {
   "cell_type": "code",
   "execution_count": 4,
   "id": "e7928c31",
   "metadata": {},
   "outputs": [],
   "source": [
    "# Test loop_starters\n",
    "for i in range(0, len(loop_starters)):\n",
    "    pixels[loop_starters[i]] = (255, 255, 255)\n",
    "pixels.show()\n",
    "time.sleep(2)\n",
    "pixels.fill((0, 0, 0))\n",
    "pixels.show()"
   ]
  },
  {
   "cell_type": "code",
   "execution_count": 5,
   "id": "a61fecea",
   "metadata": {},
   "outputs": [],
   "source": [
    "loop_starters = loop_starters + [num_pixels,]"
   ]
  },
  {
   "cell_type": "code",
   "execution_count": 6,
   "id": "6de6f883",
   "metadata": {},
   "outputs": [],
   "source": [
    "def colour_check(colour):\n",
    "    for i in range(0, 3):\n",
    "        if colour[i] < 0:\n",
    "            colour[i] = 0\n",
    "        elif colour[i] > 255:\n",
    "            colour[i] = 255\n",
    "        else:\n",
    "            continue\n",
    "    return colour\n",
    "\n",
    "        \n",
    "def sine_wave(pixels, loop_starters, amplitute, phase_shift, dc_offset, colour):\n",
    "    # Input a value 0 to 255 to get a color value.\n",
    "    for i in range(0, len(loop_starters)-1):\n",
    "        actuation = amplitute*np.sin(2*np.pi*(i+1)/(len(loop_starters))+phase_shift)+dc_offset\n",
    "        relative_pos = (actuation+1)/(2)\n",
    "        pos = round((loop_starters[i+1]-loop_starters[i])*relative_pos+loop_starters[i])\n",
    "        if pos < 0:\n",
    "            pos = 0\n",
    "        if pos >= num_pixels:\n",
    "            pos = num_pixels - 1\n",
    "        new_colour = colour_check([sum(tpl) for tpl in zip (pixels[pos], colour)])\n",
    "        pixels[pos] = new_colour\n",
    "    return pixels"
   ]
  },
  {
   "cell_type": "code",
   "execution_count": 7,
   "id": "d006da2c",
   "metadata": {},
   "outputs": [],
   "source": [
    "steps = 10"
   ]
  },
  {
   "cell_type": "code",
   "execution_count": 8,
   "id": "c19f2824",
   "metadata": {},
   "outputs": [],
   "source": [
    "sine_waves = [{\"amplitute_range\": [-1, 1], \n",
    "               \"phase_shift_range\": [0, 0],\n",
    "               \"dc_offset_range\": [0, 0],\n",
    "               \"colour\": (255, 0, 0)},\n",
    "              {\"amplitute_range\": [0.7, 0.7], \n",
    "               \"phase_shift_range\": [0, 0],\n",
    "               \"dc_offset_range\": [-0.2, 0.2],\n",
    "               \"colour\": (0, 255, 0)},\n",
    "              {\"amplitute_range\": [-0.6, 0.6], \n",
    "               \"phase_shift_range\": [0, 0],\n",
    "               \"dc_offset_range\": [0, 0],\n",
    "               \"colour\": (0, 0, 255)},\n",
    "              {\"amplitute_range\": [-0.9, -0.9], \n",
    "               \"phase_shift_range\": [0, 0],\n",
    "               \"dc_offset_range\": [-0.07, 0.07],\n",
    "               \"colour\": (128, 128, 0)}]"
   ]
  },
  {
   "cell_type": "code",
   "execution_count": 9,
   "id": "543980e9",
   "metadata": {},
   "outputs": [],
   "source": [
    "for i in range(0, len(sine_waves)):\n",
    "    sine_waves[i][\"amplitutes\"] = np.concatenate((np.linspace(sine_waves[i][\"amplitute_range\"][0],\n",
    "                                                              sine_waves[i][\"amplitute_range\"][1],\n",
    "                                                              num=steps)[:-1],\n",
    "                                                  np.linspace(sine_waves[i][\"amplitute_range\"][1],\n",
    "                                                              sine_waves[i][\"amplitute_range\"][0],\n",
    "                                                              num=steps)[:-1]),\n",
    "                                                 axis=0)\n",
    "    sine_waves[i][\"phase_shifts\"] = np.concatenate((np.linspace(sine_waves[i][\"phase_shift_range\"][0],\n",
    "                                                                sine_waves[i][\"phase_shift_range\"][1],\n",
    "                                                                num=steps)[:-1],\n",
    "                                                    np.linspace(sine_waves[i][\"phase_shift_range\"][1],\n",
    "                                                                sine_waves[i][\"phase_shift_range\"][0],\n",
    "                                                                num=steps)[:-1]),\n",
    "                                                 axis=0)                                            \n",
    "    sine_waves[i][\"dc_offsets\"] = np.concatenate((np.linspace(sine_waves[i][\"dc_offset_range\"][0],\n",
    "                                                              sine_waves[i][\"dc_offset_range\"][1],\n",
    "                                                              num=steps)[:-1],\n",
    "                                                  np.linspace(sine_waves[i][\"dc_offset_range\"][1],\n",
    "                                                              sine_waves[i][\"dc_offset_range\"][0],\n",
    "                                                              num=steps)[:-1]),\n",
    "                                                  axis=0)"
   ]
  },
  {
   "cell_type": "code",
   "execution_count": 10,
   "id": "99b10047",
   "metadata": {
    "scrolled": true
   },
   "outputs": [
    {
     "ename": "KeyboardInterrupt",
     "evalue": "",
     "output_type": "error",
     "traceback": [
      "\u001b[0;31m---------------------------------------------------------------------------\u001b[0m",
      "\u001b[0;31mKeyboardInterrupt\u001b[0m                         Traceback (most recent call last)",
      "Cell \u001b[0;32mIn[10], line 15\u001b[0m\n\u001b[1;32m     13\u001b[0m \u001b[38;5;28;01mif\u001b[39;00m start_step \u001b[38;5;241m>\u001b[39m\u001b[38;5;241m=\u001b[39m \u001b[38;5;241m2\u001b[39m\u001b[38;5;241m*\u001b[39m(steps\u001b[38;5;241m-\u001b[39m\u001b[38;5;241m1\u001b[39m):\n\u001b[1;32m     14\u001b[0m     start_step \u001b[38;5;241m=\u001b[39m \u001b[38;5;241m0\u001b[39m\n\u001b[0;32m---> 15\u001b[0m \u001b[43mtime\u001b[49m\u001b[38;5;241;43m.\u001b[39;49m\u001b[43msleep\u001b[49m\u001b[43m(\u001b[49m\u001b[38;5;241;43m0.3\u001b[39;49m\u001b[43m)\u001b[49m\n",
      "\u001b[0;31mKeyboardInterrupt\u001b[0m: "
     ]
    }
   ],
   "source": [
    "start_step = 0\n",
    "while True:\n",
    "    pixels.fill((0, 0, 0))\n",
    "    for i in range(0, len(sine_waves)):\n",
    "        pixels = sine_wave(pixels,\n",
    "                           loop_starters,\n",
    "                           sine_waves[i][\"amplitutes\"][start_step],\n",
    "                           sine_waves[i][\"phase_shifts\"][start_step],\n",
    "                           sine_waves[i][\"dc_offsets\"][start_step],\n",
    "                           sine_waves[i][\"colour\"])\n",
    "    pixels.show()\n",
    "    start_step += 1\n",
    "    if start_step >= 2*(steps-1):\n",
    "        start_step = 0\n",
    "    time.sleep(0.3)"
   ]
  },
  {
   "cell_type": "code",
   "execution_count": null,
   "id": "7a321087",
   "metadata": {},
   "outputs": [],
   "source": [
    "# Turn off pixels with pixels.deinit()"
   ]
  },
  {
   "cell_type": "code",
   "execution_count": 11,
   "id": "cdffe8a9",
   "metadata": {},
   "outputs": [],
   "source": [
    "pixels.deinit()"
   ]
  },
  {
   "cell_type": "code",
   "execution_count": null,
   "id": "4d95e940",
   "metadata": {},
   "outputs": [],
   "source": []
  }
 ],
 "metadata": {
  "kernelspec": {
   "display_name": "Python 3 (ipykernel)",
   "language": "python",
   "name": "python3"
  },
  "language_info": {
   "codemirror_mode": {
    "name": "ipython",
    "version": 3
   },
   "file_extension": ".py",
   "mimetype": "text/x-python",
   "name": "python",
   "nbconvert_exporter": "python",
   "pygments_lexer": "ipython3",
   "version": "3.9.2"
  }
 },
 "nbformat": 4,
 "nbformat_minor": 5
}

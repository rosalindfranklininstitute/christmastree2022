{
 "cells": [
  {
   "cell_type": "code",
   "execution_count": 1,
   "id": "ae669f3b",
   "metadata": {},
   "outputs": [],
   "source": [
    "import board\n",
    "import neopixel\n",
    "import time\n",
    "\n",
    "num_pixels = 100\n",
    "ORDER = neopixel.RGB\n",
    "\n",
    "pixels = neopixel.NeoPixel(board.D21, num_pixels, auto_write=False, pixel_order=ORDER)"
   ]
  },
  {
   "cell_type": "code",
   "execution_count": 5,
   "id": "a61fecea",
   "metadata": {},
   "outputs": [],
   "source": [
    "# E.g. Set all pixels to off\n",
    "pixels.fill((0, 0, 0))"
   ]
  },
  {
   "cell_type": "code",
   "execution_count": 6,
   "id": "894d1680",
   "metadata": {},
   "outputs": [
    {
     "ename": "KeyboardInterrupt",
     "evalue": "",
     "output_type": "error",
     "traceback": [
      "\u001b[0;31m---------------------------------------------------------------------------\u001b[0m",
      "\u001b[0;31mKeyboardInterrupt\u001b[0m                         Traceback (most recent call last)",
      "Cell \u001b[0;32mIn[6], line 54\u001b[0m\n\u001b[1;32m     51\u001b[0m pixels\u001b[38;5;241m.\u001b[39mshow()\n\u001b[1;32m     52\u001b[0m time\u001b[38;5;241m.\u001b[39msleep(\u001b[38;5;241m1\u001b[39m)\n\u001b[0;32m---> 54\u001b[0m \u001b[43mrainbow_cycle\u001b[49m\u001b[43m(\u001b[49m\u001b[38;5;241;43m0.001\u001b[39;49m\u001b[43m)\u001b[49m  \u001b[38;5;66;03m# rainbow cycle with 1ms delay per step\u001b[39;00m\n",
      "Cell \u001b[0;32mIn[6], line 28\u001b[0m, in \u001b[0;36mrainbow_cycle\u001b[0;34m(wait)\u001b[0m\n\u001b[1;32m     26\u001b[0m     pixel_index \u001b[38;5;241m=\u001b[39m (i \u001b[38;5;241m*\u001b[39m \u001b[38;5;241m256\u001b[39m \u001b[38;5;241m/\u001b[39m\u001b[38;5;241m/\u001b[39m num_pixels) \u001b[38;5;241m+\u001b[39m j\n\u001b[1;32m     27\u001b[0m     pixels[i] \u001b[38;5;241m=\u001b[39m wheel(pixel_index \u001b[38;5;241m&\u001b[39m \u001b[38;5;241m255\u001b[39m)\n\u001b[0;32m---> 28\u001b[0m \u001b[43mpixels\u001b[49m\u001b[38;5;241;43m.\u001b[39;49m\u001b[43mshow\u001b[49m\u001b[43m(\u001b[49m\u001b[43m)\u001b[49m\n\u001b[1;32m     29\u001b[0m time\u001b[38;5;241m.\u001b[39msleep(wait)\n",
      "File \u001b[0;32m/usr/local/lib/python3.9/dist-packages/adafruit_pixelbuf.py:204\u001b[0m, in \u001b[0;36mPixelBuf.show\u001b[0;34m(self)\u001b[0m\n\u001b[1;32m    200\u001b[0m \u001b[38;5;28;01mdef\u001b[39;00m \u001b[38;5;21mshow\u001b[39m(\u001b[38;5;28mself\u001b[39m):\n\u001b[1;32m    201\u001b[0m     \u001b[38;5;124;03m\"\"\"\u001b[39;00m\n\u001b[1;32m    202\u001b[0m \u001b[38;5;124;03m    Call the associated write function to display the pixels\u001b[39;00m\n\u001b[1;32m    203\u001b[0m \u001b[38;5;124;03m    \"\"\"\u001b[39;00m\n\u001b[0;32m--> 204\u001b[0m     \u001b[38;5;28;01mreturn\u001b[39;00m \u001b[38;5;28;43mself\u001b[39;49m\u001b[38;5;241;43m.\u001b[39;49m\u001b[43m_transmit\u001b[49m\u001b[43m(\u001b[49m\u001b[38;5;28;43mself\u001b[39;49m\u001b[38;5;241;43m.\u001b[39;49m\u001b[43m_post_brightness_buffer\u001b[49m\u001b[43m)\u001b[49m\n",
      "File \u001b[0;32m/usr/local/lib/python3.9/dist-packages/neopixel.py:180\u001b[0m, in \u001b[0;36mNeoPixel._transmit\u001b[0;34m(self, buffer)\u001b[0m\n\u001b[1;32m    179\u001b[0m \u001b[38;5;28;01mdef\u001b[39;00m \u001b[38;5;21m_transmit\u001b[39m(\u001b[38;5;28mself\u001b[39m, buffer: \u001b[38;5;28mbytearray\u001b[39m) \u001b[38;5;241m-\u001b[39m\u001b[38;5;241m>\u001b[39m \u001b[38;5;28;01mNone\u001b[39;00m:\n\u001b[0;32m--> 180\u001b[0m     \u001b[43mneopixel_write\u001b[49m\u001b[43m(\u001b[49m\u001b[38;5;28;43mself\u001b[39;49m\u001b[38;5;241;43m.\u001b[39;49m\u001b[43mpin\u001b[49m\u001b[43m,\u001b[49m\u001b[43m \u001b[49m\u001b[43mbuffer\u001b[49m\u001b[43m)\u001b[49m\n",
      "File \u001b[0;32m/usr/local/lib/python3.9/dist-packages/neopixel_write.py:38\u001b[0m, in \u001b[0;36mneopixel_write\u001b[0;34m(gpio, buf)\u001b[0m\n\u001b[1;32m     36\u001b[0m \u001b[38;5;28;01mdef\u001b[39;00m \u001b[38;5;21mneopixel_write\u001b[39m(gpio, buf):\n\u001b[1;32m     37\u001b[0m     \u001b[38;5;124;03m\"\"\"Write buf out on the given DigitalInOut.\"\"\"\u001b[39;00m\n\u001b[0;32m---> 38\u001b[0m     \u001b[38;5;28;01mreturn\u001b[39;00m \u001b[43m_neopixel\u001b[49m\u001b[38;5;241;43m.\u001b[39;49m\u001b[43mneopixel_write\u001b[49m\u001b[43m(\u001b[49m\u001b[43mgpio\u001b[49m\u001b[43m,\u001b[49m\u001b[43m \u001b[49m\u001b[43mbuf\u001b[49m\u001b[43m)\u001b[49m\n",
      "File \u001b[0;32m/usr/local/lib/python3.9/dist-packages/adafruit_blinka/microcontroller/bcm283x/neopixel.py:107\u001b[0m, in \u001b[0;36mneopixel_write\u001b[0;34m(gpio, buf)\u001b[0m\n\u001b[1;32m    104\u001b[0m         pixel \u001b[38;5;241m=\u001b[39m (w \u001b[38;5;241m<<\u001b[39m \u001b[38;5;241m24\u001b[39m) \u001b[38;5;241m|\u001b[39m (r \u001b[38;5;241m<<\u001b[39m \u001b[38;5;241m16\u001b[39m) \u001b[38;5;241m|\u001b[39m (g \u001b[38;5;241m<<\u001b[39m \u001b[38;5;241m8\u001b[39m) \u001b[38;5;241m|\u001b[39m b\n\u001b[1;32m    105\u001b[0m     ws\u001b[38;5;241m.\u001b[39mws2811_led_set(channel, i, pixel)\n\u001b[0;32m--> 107\u001b[0m resp \u001b[38;5;241m=\u001b[39m \u001b[43mws\u001b[49m\u001b[38;5;241;43m.\u001b[39;49m\u001b[43mws2811_render\u001b[49m\u001b[43m(\u001b[49m\u001b[43m_led_strip\u001b[49m\u001b[43m)\u001b[49m\n\u001b[1;32m    108\u001b[0m \u001b[38;5;28;01mif\u001b[39;00m resp \u001b[38;5;241m!=\u001b[39m ws\u001b[38;5;241m.\u001b[39mWS2811_SUCCESS:\n\u001b[1;32m    109\u001b[0m     message \u001b[38;5;241m=\u001b[39m ws\u001b[38;5;241m.\u001b[39mws2811_get_return_t_str(resp)\n",
      "\u001b[0;31mKeyboardInterrupt\u001b[0m: "
     ]
    }
   ],
   "source": [
    "def wheel(pos):\n",
    "    # Input a value 0 to 255 to get a color value.\n",
    "    # The colours are a transition r - g - b - back to r.\n",
    "    if pos < 0 or pos > 255:\n",
    "        r = g = b = 0\n",
    "    elif pos < 85:\n",
    "        r = int(pos * 3)\n",
    "        g = int(255 - pos * 3)\n",
    "        b = 0\n",
    "    elif pos < 170:\n",
    "        pos -= 85\n",
    "        r = int(255 - pos * 3)\n",
    "        g = 0\n",
    "        b = int(pos * 3)\n",
    "    else:\n",
    "        pos -= 170\n",
    "        r = 0\n",
    "        g = int(pos * 3)\n",
    "        b = int(255 - pos * 3)\n",
    "    return (r, g, b) if ORDER in (neopixel.RGB, neopixel.GRB) else (r, g, b, 0)\n",
    "\n",
    "\n",
    "def rainbow_cycle(wait):\n",
    "    for j in range(255):\n",
    "        for i in range(num_pixels):\n",
    "            pixel_index = (i * 256 // num_pixels) + j\n",
    "            pixels[i] = wheel(pixel_index & 255)\n",
    "        pixels.show()\n",
    "        time.sleep(wait)\n",
    "\n",
    "\n",
    "while True:\n",
    "    # Comment this line out if you have RGBW/GRBW NeoPixels\n",
    "    pixels.fill((255, 0, 0))\n",
    "    # Uncomment this line if you have RGBW/GRBW NeoPixels\n",
    "    # pixels.fill((255, 0, 0, 0))\n",
    "    pixels.show()\n",
    "    time.sleep(1)\n",
    "\n",
    "    # Comment this line out if you have RGBW/GRBW NeoPixels\n",
    "    pixels.fill((0, 255, 0))\n",
    "    # Uncomment this line if you have RGBW/GRBW NeoPixels\n",
    "    # pixels.fill((0, 255, 0, 0))\n",
    "    pixels.show()\n",
    "    time.sleep(1)\n",
    "\n",
    "    # Comment this line out if you have RGBW/GRBW NeoPixels\n",
    "    pixels.fill((0, 0, 255))\n",
    "    # Uncomment this line if you have RGBW/GRBW NeoPixels\n",
    "    # pixels.fill((0, 0, 255, 0))\n",
    "    pixels.show()\n",
    "    time.sleep(1)\n",
    "\n",
    "    rainbow_cycle(0.001)  # rainbow cycle with 1ms delay per step"
   ]
  },
  {
   "cell_type": "code",
   "execution_count": null,
   "id": "c3e0de32",
   "metadata": {},
   "outputs": [],
   "source": [
    "# Turn off pixels with pixels.deinit()"
   ]
  },
  {
   "cell_type": "code",
   "execution_count": 2,
   "id": "27d26fc9",
   "metadata": {},
   "outputs": [],
   "source": [
    "pixels.deinit()"
   ]
  },
  {
   "cell_type": "code",
   "execution_count": null,
   "id": "12b3f4b8",
   "metadata": {},
   "outputs": [],
   "source": []
  }
 ],
 "metadata": {
  "kernelspec": {
   "display_name": "Python 3 (ipykernel)",
   "language": "python",
   "name": "python3"
  },
  "language_info": {
   "codemirror_mode": {
    "name": "ipython",
    "version": 3
   },
   "file_extension": ".py",
   "mimetype": "text/x-python",
   "name": "python",
   "nbconvert_exporter": "python",
   "pygments_lexer": "ipython3",
   "version": "3.9.2"
  }
 },
 "nbformat": 4,
 "nbformat_minor": 5
}
